{
 "cells": [
  {
   "cell_type": "code",
   "execution_count": 3,
   "id": "cd1928d6",
   "metadata": {},
   "outputs": [
    {
     "name": "stdout",
     "output_type": "stream",
     "text": [
      "Ingrese la calificación del alumno: 9.5\n",
      "La calificación del alumno es: Excelente\n"
     ]
    }
   ],
   "source": [
    "def clasificar_calificacion(calificacion, escala):\n",
    "    if calificacion < escala['Suspendido']:\n",
    "        return \"Suspendido\"\n",
    "    elif calificacion < escala['Aprobado']:\n",
    "        return \"Aprobado\"\n",
    "    elif calificacion < escala['Notable']:\n",
    "        return \"Notable\"\n",
    "    else:\n",
    "        return \"Excelente\"\n",
    "\n",
    "# Solicitar la calificación del alumno y la escala de notas al usuario\n",
    "calificacion_alumno = float(input(\"Ingrese la calificación del alumno: \"))\n",
    "\n",
    "escala_notas = {\n",
    "    'Suspendido': 5,\n",
    "    'Aprobado': 7,\n",
    "    'Notable': 9\n",
    "}\n",
    "\n",
    "clasificacion = clasificar_calificacion(calificacion_alumno, escala_notas)\n",
    "print(\"La calificación del alumno es:\", clasificacion)"
   ]
  },
  {
   "cell_type": "code",
   "execution_count": 4,
   "id": "171af9db",
   "metadata": {},
   "outputs": [
    {
     "name": "stdout",
     "output_type": "stream",
     "text": [
      "Ingrese el primer número: 3\n",
      "Ingrese el segundo número: 2\n",
      "El primer número es mayor que el segundo.\n"
     ]
    }
   ],
   "source": [
    "# Solicitar dos números al usuario\n",
    "numero1 = float(input(\"Ingrese el primer número: \"))\n",
    "numero2 = float(input(\"Ingrese el segundo número: \"))\n",
    "\n",
    "# Comparar los números e imprimir el mensaje correspondiente\n",
    "if numero1 > numero2:\n",
    "    print(\"El primer número es mayor que el segundo.\")\n",
    "elif numero1 < numero2:\n",
    "    print(\"El segundo número es mayor que el primero.\")\n",
    "else:\n",
    "    print(\"Ambos números son iguales.\")"
   ]
  },
  {
   "cell_type": "code",
   "execution_count": 8,
   "id": "3e5cebdc",
   "metadata": {},
   "outputs": [
    {
     "name": "stdout",
     "output_type": "stream",
     "text": [
      "Ingrese su nombre: Williams\n",
      "Ingrese un número (distinto de 0): 5\n",
      "Williams Williams Williams Williams Williams\n"
     ]
    }
   ],
   "source": [
    "# Solicitar el nombre al usuario\n",
    "nombre = input(\"Ingrese su nombre: \")\n",
    "\n",
    "# Solicitar un número al usuario\n",
    "numero = int(input(\"Ingrese un número (distinto de 0): \"))\n",
    "\n",
    "# Verificar si el número es 0 y mostrar un mensaje de error\n",
    "if numero == 0:\n",
    "    print(\"Error: El número no puede ser 0.\")\n",
    "else:\n",
    "    # Mostrar el nombre repetido tantas veces como indique el número\n",
    "    resultado = \"\"\n",
    "    for _ in range(numero):\n",
    "        resultado += nombre + \" \"\n",
    "    print(resultado.strip())"
   ]
  },
  {
   "cell_type": "code",
   "execution_count": 9,
   "id": "8fff3a6b",
   "metadata": {},
   "outputs": [
    {
     "name": "stdout",
     "output_type": "stream",
     "text": [
      "La lista es simétrica y tiene 5 elementos.\n"
     ]
    }
   ],
   "source": [
    "def es_simetrica(lista):\n",
    "    longitud = len(lista)\n",
    "    for i in range(longitud // 2):\n",
    "        if lista[i] != lista[longitud - 1 - i]:\n",
    "            return False\n",
    "    return True\n",
    "\n",
    "# Ejemplo\n",
    "lista_ejemplo = [1, 2, 3, 2, 1]\n",
    "if es_simetrica(lista_ejemplo):\n",
    "    print(\"La lista es simétrica y tiene\", len(lista_ejemplo), \"elementos.\")\n",
    "else:\n",
    "    print(\"La lista no es simétrica.\")\n"
   ]
  },
  {
   "cell_type": "code",
   "execution_count": 11,
   "id": "1af6f13a",
   "metadata": {},
   "outputs": [
    {
     "name": "stdout",
     "output_type": "stream",
     "text": [
      "La lista tiene 2 número(s) que coinciden con su posición:\n",
      "2, 6\n"
     ]
    }
   ],
   "source": [
    "\"\"\"Hay que tener presente que la lista se numera desde la posicoin Cero, por esta razon en el ejemplo\n",
    "el 2 y el 6 coinciden con su indice\"\"\"\n",
    "def contar_coincidencias(lista):\n",
    "    coincidencias = []\n",
    "    for i, num in enumerate(lista):\n",
    "        if i == num:\n",
    "            coincidencias.append(num)\n",
    "    return coincidencias\n",
    "\n",
    "# Ejemplo de uso\n",
    "lista_ejemplo = [3, 4, 2, 0, 2, 3, 6]\n",
    "numeros_coincidentes = contar_coincidencias(lista_ejemplo)\n",
    "\n",
    "if len(numeros_coincidentes) > 0:\n",
    "    coincidencias_str = \", \".join(str(num) for num in numeros_coincidentes)\n",
    "    print(\"La lista tiene\", len(numeros_coincidentes), \"número(s) que coinciden con su posición:\")\n",
    "    print(coincidencias_str)\n",
    "else:\n",
    "    print(\"No hay números que coincidan con su posición en la lista.\")"
   ]
  }
 ],
 "metadata": {
  "kernelspec": {
   "display_name": "Python 3 (ipykernel)",
   "language": "python",
   "name": "python3"
  },
  "language_info": {
   "codemirror_mode": {
    "name": "ipython",
    "version": 3
   },
   "file_extension": ".py",
   "mimetype": "text/x-python",
   "name": "python",
   "nbconvert_exporter": "python",
   "pygments_lexer": "ipython3",
   "version": "3.9.13"
  }
 },
 "nbformat": 4,
 "nbformat_minor": 5
}
