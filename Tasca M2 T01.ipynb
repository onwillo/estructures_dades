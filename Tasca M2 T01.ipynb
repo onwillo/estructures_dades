{
 "cells": [
  {
   "cell_type": "code",
   "execution_count": 3,
   "id": "463b0c11",
   "metadata": {},
   "outputs": [
    {
     "name": "stdout",
     "output_type": "stream",
     "text": [
      "Trimestre 1: ['enero', 'febrero', 'marzo']\n",
      "Trimestre 2: ['abril', 'mayo', 'junio']\n",
      "Trimestre 3: ['julio', 'agosto', 'septiembre']\n",
      "Trimestre 4: ['octubre', 'noviembre', 'diciembre']\n"
     ]
    }
   ],
   "source": [
    "trimestres = [\n",
    "    ['enero', 'febrero', 'marzo'],\n",
    "    ['abril', 'mayo', 'junio'],\n",
    "    ['julio', 'agosto', 'septiembre'],\n",
    "    ['octubre', 'noviembre', 'diciembre']\n",
    "]\n",
    "\n",
    "for i, trimestre in enumerate(trimestres, start=1):\n",
    "    print(f'Trimestre {i}: {trimestre}')"
   ]
  },
  {
   "cell_type": "code",
   "execution_count": 4,
   "id": "cab374df",
   "metadata": {},
   "outputs": [
    {
     "name": "stdout",
     "output_type": "stream",
     "text": [
      "El segundo mes del primer trimestre: febrero\n",
      "Meses del primer trimestre: ['enero', 'febrero', 'marzo']\n",
      "Septiembre y octubre: ['septiembre', 'octubre']\n"
     ]
    }
   ],
   "source": [
    "trimestres = [\n",
    "    ['enero', 'febrero', 'marzo'],\n",
    "    ['abril', 'mayo', 'junio'],\n",
    "    ['julio', 'agosto', 'septiembre'],\n",
    "    ['octubre', 'noviembre', 'diciembre']\n",
    "]\n",
    "\n",
    "# Acceder al segundo mes del primer trimestre\n",
    "segundo_mes_primer_trimestre = trimestres[0][1]\n",
    "print(\"El segundo mes del primer trimestre:\", segundo_mes_primer_trimestre)\n",
    "\n",
    "# Acceder a los meses del primer trimestre\n",
    "meses_primer_trimestre = trimestres[0]\n",
    "print(\"Meses del primer trimestre:\", meses_primer_trimestre)\n",
    "\n",
    "# Acceder a septiembre y octubre\n",
    "septiembre_octubre = [trimestres[2][2], trimestres[3][0]]\n",
    "print(\"Septiembre y octubre:\", septiembre_octubre)"
   ]
  },
  {
   "cell_type": "code",
   "execution_count": 5,
   "id": "64743e9f",
   "metadata": {},
   "outputs": [
    {
     "name": "stdout",
     "output_type": "stream",
     "text": [
      "Cantidad de números: 13\n",
      "Veces que aparece el número 3: 3\n",
      "Veces que aparecen los números 3 y 4: 5\n",
      "El mayor número: 9\n",
      "Los 3 números más pequeños: [1, 2, 2]\n",
      "El rango de la lista: 8\n"
     ]
    }
   ],
   "source": [
    "numeros = [5, 3, 2, 7, 9, 3, 4, 1, 8, 3, 6, 4, 2]\n",
    "\n",
    "# ¿Cuántos números hay?\n",
    "cantidad_numeros = len(numeros)\n",
    "print(\"Cantidad de números:\", cantidad_numeros)\n",
    "\n",
    "# ¿Cuántas veces aparece el número 3?\n",
    "veces_numero_3 = numeros.count(3)\n",
    "print(\"Veces que aparece el número 3:\", veces_numero_3)\n",
    "\n",
    "# ¿Cuántas veces aparecen los números 3 y 4?\n",
    "veces_numeros_3_4 = numeros.count(3) + numeros.count(4)\n",
    "print(\"Veces que aparecen los números 3 y 4:\", veces_numeros_3_4)\n",
    "\n",
    "# ¿Cuál es el mayor número?\n",
    "mayor_numero = max(numeros)\n",
    "print(\"El mayor número:\", mayor_numero)\n",
    "\n",
    "# ¿Cuáles son los 3 números más pequeños?\n",
    "tres_numeros_mas_pequenos = sorted(numeros)[:3]\n",
    "print(\"Los 3 números más pequeños:\", tres_numeros_mas_pequenos)\n",
    "\n",
    "# ¿Cuál es el rango de esa lista?\n",
    "rango_lista = max(numeros) - min(numeros)\n",
    "print(\"El rango de la lista:\", rango_lista)"
   ]
  },
  {
   "cell_type": "code",
   "execution_count": 6,
   "id": "8804632d",
   "metadata": {},
   "outputs": [
    {
     "name": "stdout",
     "output_type": "stream",
     "text": [
      "El costo total de las peras es: 1.98 €\n",
      "El total de frutas compradas es: 12\n",
      "La fruta más cara es: Plátanos\n"
     ]
    }
   ],
   "source": [
    "compra = {\n",
    "    \"Manzanas\": {\"Qty\": 5, \"€\": 0.42},\n",
    "    \"Peras\": {\"Qty\": 3, \"€\": 0.66}\n",
    "}\n",
    "\n",
    "# Añadir alguna fruta más\n",
    "compra[\"Plátanos\"] = {\"Qty\": 4, \"€\": 0.75}\n",
    "\n",
    "# ¿Cuánto han costado las peras en total?\n",
    "total_peras = compra[\"Peras\"][\"Qty\"] * compra[\"Peras\"][\"€\"]\n",
    "print(\"El costo total de las peras es:\", total_peras, \"€\")\n",
    "\n",
    "# ¿Cuántas frutas hemos comprado en total?\n",
    "total_frutas = sum(fruta[\"Qty\"] for fruta in compra.values())\n",
    "print(\"El total de frutas compradas es:\", total_frutas)\n",
    "\n",
    "# ¿Cuál es la fruta más cara?\n",
    "fruta_mas_cara = max(compra, key=lambda fruta: compra[fruta][\"€\"])\n",
    "print(\"La fruta más cara es:\", fruta_mas_cara)"
   ]
  }
 ],
 "metadata": {
  "kernelspec": {
   "display_name": "Python 3 (ipykernel)",
   "language": "python",
   "name": "python3"
  },
  "language_info": {
   "codemirror_mode": {
    "name": "ipython",
    "version": 3
   },
   "file_extension": ".py",
   "mimetype": "text/x-python",
   "name": "python",
   "nbconvert_exporter": "python",
   "pygments_lexer": "ipython3",
   "version": "3.9.13"
  }
 },
 "nbformat": 4,
 "nbformat_minor": 5
}
